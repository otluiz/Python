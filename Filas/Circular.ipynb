{
 "cells": [
  {
   "cell_type": "code",
   "execution_count": 1,
   "metadata": {},
   "outputs": [],
   "source": [
    "import numpy as np"
   ]
  },
  {
   "cell_type": "code",
   "execution_count": 2,
   "metadata": {},
   "outputs": [],
   "source": [
    "class FilaCircular:\n",
    "    def __init__(self, tamanho):\n",
    "        self.tamanho = tamanho\n",
    "        self.inicio = 0\n",
    "        self.final = -1\n",
    "        self.num_elementos = 0\n",
    "        self.valores = np.empty(self.tamanho, dtype=int)\n",
    "        \n",
    "    def __fila_vazia(self):\n",
    "        return self.num_elementos == 0\n",
    "    \n",
    "    def __fila_cheia(self):\n",
    "        return self.num_elementos == self.tamanho\n",
    "    \n",
    "    def enfileirar(self, valor):\n",
    "        if self.__fila_cheia():\n",
    "            print('A fila está cheia')\n",
    "            return\n",
    "        if self.final == self.tamanho - 1:\n",
    "            self.final = -1\n",
    "        self.final += 1\n",
    "        self.valores[self.final] = valor\n",
    "        self.num_elementos += 1\n",
    "        \n",
    "    def desenfileirar(self):\n",
    "        if self.__fila_vazia():\n",
    "            print('A fila está vazia')\n",
    "            return\n",
    "        temp = self.valores[self.inicio]\n",
    "        self.inicio += 1\n",
    "        if self.inicio == self.tamanho - 1:\n",
    "            self.inicio = 0\n",
    "        self.num_elementos -= 1\n",
    "        return temp\n",
    "    \n",
    "    def fila_inicio(self):\n",
    "        if self.__fila_vazia():\n",
    "            return -1\n",
    "        return self.valores[self.inicio]\n",
    "        "
   ]
  },
  {
   "cell_type": "code",
   "execution_count": 3,
   "metadata": {},
   "outputs": [],
   "source": [
    "fila = FilaCircular(5)"
   ]
  },
  {
   "cell_type": "code",
   "execution_count": 4,
   "metadata": {},
   "outputs": [],
   "source": [
    "fila.enfileirar(1)\n",
    "fila.enfileirar(2)\n",
    "fila.enfileirar(3)\n",
    "fila.enfileirar(4)\n",
    "fila.enfileirar(5)\n"
   ]
  },
  {
   "cell_type": "code",
   "execution_count": 5,
   "metadata": {},
   "outputs": [
    {
     "name": "stdout",
     "output_type": "stream",
     "text": [
      "A fila está cheia\n"
     ]
    }
   ],
   "source": [
    "fila.enfileirar(6)"
   ]
  },
  {
   "cell_type": "code",
   "execution_count": 6,
   "metadata": {},
   "outputs": [
    {
     "data": {
      "text/plain": [
       "1"
      ]
     },
     "execution_count": 6,
     "metadata": {},
     "output_type": "execute_result"
    }
   ],
   "source": [
    "fila.desenfileirar()"
   ]
  },
  {
   "cell_type": "code",
   "execution_count": 7,
   "metadata": {},
   "outputs": [
    {
     "data": {
      "text/plain": [
       "2"
      ]
     },
     "execution_count": 7,
     "metadata": {},
     "output_type": "execute_result"
    }
   ],
   "source": [
    "fila.desenfileirar()"
   ]
  },
  {
   "cell_type": "code",
   "execution_count": 8,
   "metadata": {},
   "outputs": [],
   "source": [
    "fila.enfileirar(6)"
   ]
  },
  {
   "cell_type": "code",
   "execution_count": 9,
   "metadata": {},
   "outputs": [],
   "source": [
    "fila.enfileirar(7)"
   ]
  },
  {
   "cell_type": "code",
   "execution_count": 10,
   "metadata": {},
   "outputs": [
    {
     "data": {
      "text/plain": [
       "3"
      ]
     },
     "execution_count": 10,
     "metadata": {},
     "output_type": "execute_result"
    }
   ],
   "source": [
    "fila.fila_inicio()"
   ]
  },
  {
   "cell_type": "code",
   "execution_count": 11,
   "metadata": {},
   "outputs": [
    {
     "name": "stdout",
     "output_type": "stream",
     "text": [
      "A fila está cheia\n"
     ]
    }
   ],
   "source": [
    "fila.enfileirar(10)"
   ]
  },
  {
   "cell_type": "code",
   "execution_count": 12,
   "metadata": {},
   "outputs": [
    {
     "data": {
      "text/plain": [
       "3"
      ]
     },
     "execution_count": 12,
     "metadata": {},
     "output_type": "execute_result"
    }
   ],
   "source": [
    "fila.desenfileirar()"
   ]
  },
  {
   "cell_type": "code",
   "execution_count": 13,
   "metadata": {},
   "outputs": [],
   "source": [
    "fila.enfileirar(10)"
   ]
  },
  {
   "cell_type": "code",
   "execution_count": 15,
   "metadata": {},
   "outputs": [
    {
     "data": {
      "text/plain": [
       "4"
      ]
     },
     "execution_count": 15,
     "metadata": {},
     "output_type": "execute_result"
    }
   ],
   "source": [
    "fila.fila_inicio()"
   ]
  },
  {
   "cell_type": "code",
   "execution_count": null,
   "metadata": {},
   "outputs": [],
   "source": []
  }
 ],
 "metadata": {
  "kernelspec": {
   "display_name": "Python 3",
   "language": "python",
   "name": "python3"
  },
  "language_info": {
   "codemirror_mode": {
    "name": "ipython",
    "version": 3
   },
   "file_extension": ".py",
   "mimetype": "text/x-python",
   "name": "python",
   "nbconvert_exporter": "python",
   "pygments_lexer": "ipython3",
   "version": "3.7.3"
  }
 },
 "nbformat": 4,
 "nbformat_minor": 2
}
