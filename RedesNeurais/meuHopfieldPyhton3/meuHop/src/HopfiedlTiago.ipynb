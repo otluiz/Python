{
 "cells": [
  {
   "cell_type": "code",
   "execution_count": 1,
   "metadata": {},
   "outputs": [],
   "source": [
    "#!/usr/bin/env python\n",
    "# coding: utf-8\n",
    "\n",
    "# # Hopfield Network\n",
    "\n",
    "# Developer: Thiago Fellipe Ortiz de Camargo\n",
    "\n",
    "# ## Standard Imports\n",
    "\n",
    "# In[3]:\n",
    "\n",
    "\n",
    "import numpy as np\n",
    "import pandas as pd\n",
    "import matplotlib.pyplot as plt"
   ]
  },
  {
   "cell_type": "code",
   "execution_count": 2,
   "metadata": {},
   "outputs": [],
   "source": [
    "\n",
    "# ## Examples\n",
    "\n",
    "# In[332]:\n",
    "\n",
    "\n",
    "N1 = np.array((-1, -1, 1, 1, -1, -1, 1, 1, 1, -1, -1, -1, 1, 1, -1, -1, -1, 1, 1, -1, -1, -1, 1, 1, -1, -1, -1, 1, 1, -1, -1, -1, 1, 1, -1, -1, -1, 1, 1, -1, -1, -1, 1, 1, -1))\n",
    "N2 = np.array((1, 1, 1, 1, 1, 1, 1, 1, 1, 1, -1, -1, -1, 1, 1, -1, -1, -1, 1, 1, 1, 1, 1, 1, 1, 1, 1, -1, -1, -1, 1, 1, -1, -1, -1, 1, 1, 1, 1, 1, 1, 1, 1, 1, 1))\n",
    "N3 = np.array((1, 1, 1, 1, 1, 1, 1, 1, 1, 1, -1, -1, -1, 1, 1, -1, -1, -1, 1, 1, 1, 1, 1, 1, 1, -1, -1, -1, 1, 1, -1, -1, -1, 1, 1, 1, 1, 1, 1, 1, 1, 1, 1, 1, 1))\n",
    "N4 = np.array((1, 1, -1, 1, 1, 1, 1, -1, 1, 1, 1, 1, -1, 1, 1, 1, 1, 1, 1, 1, 1, 1, 1, 1, 1, -1, -1, -1, 1, 1, -1, -1, -1, 1, 1, -1, -1, -1, 1, 1, -1, -1, -1, 1, 1))\n",
    "N = np.array((N1, N2, N3, N4))\n"
   ]
  },
  {
   "cell_type": "code",
   "execution_count": 3,
   "metadata": {},
   "outputs": [],
   "source": [
    "class hopfield(object):\n",
    "    \n",
    "    def __init__(self, patterns, noise_percentage, pattern_n_row, pattern_n_column, ib, epochs):\n",
    "        self.patterns = patterns\n",
    "        self.noise    = 1-noise_percentage\n",
    "        self.nrow     = pattern_n_row\n",
    "        self.ncol     = pattern_n_column\n",
    "        self.fmn      = len(patterns)\n",
    "        self.dim      = len(self.patterns[0])\n",
    "        self.ib       = ib\n",
    "        self.epc      = epochs\n",
    "        self.scape    = False\n",
    "        \n",
    "    def noise_attribution(self, patt):\n",
    "        self.pattern = patt\n",
    "        self.randM   = np.random.rand(self.nrow,self.ncol)\n",
    "        self.auxA    = self.noise > self.randM\n",
    "        self.auxB    = self.noise < self.randM\n",
    "        self.randM[self.auxA] =  1\n",
    "        self.randM[self.auxB] = -1\n",
    "        self.new_patter       = self.pattern.reshape(self.nrow,self.ncol)*self.randM\n",
    "        return self.new_patter.reshape(self.dim,1)\n",
    "    \n",
    "    def weights(self):\n",
    "        self.auxW = 0\n",
    "        \n",
    "        for patt in self.patterns:\n",
    "            self.auxW += patt*patt.reshape(self.dim,1)\n",
    "            \n",
    "        self.W = ((1/self.dim)*self.auxW)-((self.fmn/self.dim)*np.zeros((self.dim,self.dim)))\n",
    "        \n",
    "    \n",
    "    def run(self):\n",
    "        \n",
    "        self.outputs    = pd.DataFrame()\n",
    "        self.noised_img = pd.DataFrame()\n",
    "        for patt, i in zip(self.patterns,range(self.fmn)):\n",
    "            self.weights()\n",
    "            self.v_current  = self.noise_attribution(patt)\n",
    "            self.noised_img = pd.concat((self.noised_img, pd.DataFrame(self.v_current).T))\n",
    "            self.it = 0\n",
    "            self.scape = False\n",
    "\n",
    "            while(self.scape == False):\n",
    "                self.v_past    = self.v_current\n",
    "                self.u         = np.dot(self.W,self.v_past)+self.ib\n",
    "                self.v_current = np.sign(np.tanh(self.u))\n",
    "\n",
    "                if pd.DataFrame(self.v_current).equals(pd.DataFrame(self.v_past)):\n",
    "                    self.scape = True\n",
    "\n",
    "                if(self.it >= self.epc):\n",
    "                    self.scape = True\n",
    "\n",
    "                self.it += 1\n",
    "                \n",
    "            self.outputs = pd.concat((self.outputs,pd.DataFrame(self.v_current).T))\n"
   ]
  },
  {
   "cell_type": "code",
   "execution_count": 4,
   "metadata": {},
   "outputs": [],
   "source": [
    "# In[333]:\n",
    "\n",
    "\n",
    "hp = hopfield(patterns=N, noise_percentage=0.15, \n",
    "              pattern_n_row=9, pattern_n_column=5, ib=0, epochs=1000)\n",
    "hp.run()"
   ]
  },
  {
   "cell_type": "code",
   "execution_count": 5,
   "metadata": {},
   "outputs": [
    {
     "data": {
      "text/plain": [
       "<matplotlib.image.AxesImage at 0x7f7e92477358>"
      ]
     },
     "execution_count": 5,
     "metadata": {},
     "output_type": "execute_result"
    },
    {
     "data": {
      "image/png": "[encoded data removed]",
      "text/plain": [
       "<Figure size 504x720 with 12 Axes>"
      ]
     },
     "metadata": {
      "needs_background": "light"
     },
     "output_type": "display_data"
    }
   ],
   "source": [
    "fig, axs = plt.subplots(nrows=3, ncols=4, figsize=(7, 10))\n",
    "\n",
    "# ------- N1 -------\n",
    "axs[0][0].set_title('Pattern 1')\n",
    "axs[0][0].imshow(N1.reshape(9,5))\n",
    "\n",
    "axs[1][0].set_title('Noised Pattern 1')\n",
    "axs[1][0].imshow(hp.noised_img.iloc[0,:].values.reshape(9,5))\n",
    "\n",
    "axs[2][0].set_title('HP Pattern 1')\n",
    "axs[2][0].imshow(hp.outputs.iloc[0,:].values.reshape(9,5))\n"
   ]
  },
  {
   "cell_type": "code",
   "execution_count": 6,
   "metadata": {},
   "outputs": [
    {
     "data": {
      "text/plain": [
       "<matplotlib.image.AxesImage at 0x7f7e91fb0a90>"
      ]
     },
     "execution_count": 6,
     "metadata": {},
     "output_type": "execute_result"
    }
   ],
   "source": [
    "\n",
    "# ------- N2 -------\n",
    "axs[0][1].set_title('Pattern 2')\n",
    "axs[0][1].imshow(N2.reshape(9,5))\n",
    "\n",
    "axs[1][1].set_title('Noised Pattern 2')\n",
    "axs[1][1].imshow(hp.noised_img.iloc[1,:].values.reshape(9,5))\n",
    "\n",
    "axs[2][1].set_title('HP Pattern 2')\n",
    "axs[2][1].imshow(hp.outputs.iloc[1,:].values.reshape(9,5))"
   ]
  },
  {
   "cell_type": "code",
   "execution_count": 7,
   "metadata": {},
   "outputs": [
    {
     "data": {
      "text/plain": [
       "<matplotlib.image.AxesImage at 0x7f7e923f5be0>"
      ]
     },
     "execution_count": 7,
     "metadata": {},
     "output_type": "execute_result"
    }
   ],
   "source": [
    "# ------- N3 -------\n",
    "axs[0][2].set_title('Pattern 3')\n",
    "axs[0][2].imshow(N3.reshape(9,5))\n",
    "\n",
    "axs[1][2].set_title('Noised Pattern 3')\n",
    "axs[1][2].imshow(hp.noised_img.iloc[2,:].values.reshape(9,5))\n",
    "\n",
    "axs[2][2].set_title('HP Pattern 3')\n",
    "axs[2][2].imshow(hp.outputs.iloc[2,:].values.reshape(9,5))\n"
   ]
  },
  {
   "cell_type": "code",
   "execution_count": 8,
   "metadata": {},
   "outputs": [
    {
     "data": {
      "text/plain": [
       "<matplotlib.image.AxesImage at 0x7f7e923b74a8>"
      ]
     },
     "execution_count": 8,
     "metadata": {},
     "output_type": "execute_result"
    }
   ],
   "source": [
    "# ------- N4 -------\n",
    "axs[0][3].set_title('Pattern 4')\n",
    "axs[0][3].imshow(N4.reshape(9,5))\n",
    "\n",
    "axs[1][3].set_title('Noised Pattern 4')\n",
    "axs[1][3].imshow(hp.noised_img.iloc[3,:].values.reshape(9,5))\n",
    "\n",
    "axs[2][3].set_title('HP Pattern 4')\n",
    "axs[2][3].imshow(hp.outputs.iloc[3,:].values.reshape(9,5))"
   ]
  },
  {
   "cell_type": "code",
   "execution_count": 10,
   "metadata": {},
   "outputs": [],
   "source": [
    "plt.show()"
   ]
  },
  {
   "cell_type": "code",
   "execution_count": null,
   "metadata": {},
   "outputs": [],
   "source": []
  }
 ],
 "metadata": {
  "kernelspec": {
   "display_name": "Python 3",
   "language": "python",
   "name": "python3"
  },
  "language_info": {
   "codemirror_mode": {
    "name": "ipython",
    "version": 3
   },
   "file_extension": ".py",
   "mimetype": "text/x-python",
   "name": "python",
   "nbconvert_exporter": "python",
   "pygments_lexer": "ipython3",
   "version": "3.7.3"
  }
 },
 "nbformat": 4,
 "nbformat_minor": 2
}
