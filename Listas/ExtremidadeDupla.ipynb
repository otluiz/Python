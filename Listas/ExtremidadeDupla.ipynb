{
 "cells": [
  {
   "cell_type": "code",
   "execution_count": 1,
   "id": "7ff31de1",
   "metadata": {},
   "outputs": [],
   "source": [
    "class No:\n",
    "    def __init__(self, valor):\n",
    "        self.valor = valor  # vai receber um valor quando criar o primeiro Nó da futura lista\n",
    "        self.proximo = None # vai apontar para 'nenhum' só durante a criação do primeiro Nó\n",
    "        \n",
    "    def mostraNo(self):\n",
    "        print(self.valor)"
   ]
  },
  {
   "cell_type": "code",
   "execution_count": 2,
   "id": "fd3b9157",
   "metadata": {},
   "outputs": [],
   "source": [
    "class ListaExtremidadeDupla:\n",
    "    def __init__(self):\n",
    "        self.primeiro = None\n",
    "        self.ultimo = None\n",
    "        \n",
    "    def __lista_vazia(self): ## novo método\n",
    "        return self.primeiro == None\n",
    "    \n",
    "    def insere_inicio(self, valor):\n",
    "        novo = No(valor) ## criamos um novo nó para ser inserido na lista\n",
    "        if self.__lista_vazia():\n",
    "            self.ultimo = novo ## aqui insere de uma maneira especial, com uma lista vazia\n",
    "        ## caso já tenha elementos na lista\n",
    "        novo.proximo = self.primeiro\n",
    "        self.primeiro = novo\n",
    "        \n",
    "    def insere_final(self, valor):\n",
    "        novo = No(valor) ## criamos um novo nó para ser inserido na lista\n",
    "        if self.__lista_vazia():\n",
    "            self.primeiro = novo ## aqui insere de uma maneira especial, com uma lista vazia\n",
    "        else:\n",
    "            self.ultimo.proximo = novo\n",
    "        self.ultimo = novo\n",
    "        \n",
    "    def mostrar(self): ## este método eu copiei e colei da lista simples, porque é do mesmo jeito\n",
    "         if self.__lista_vazia():\n",
    "            print('A lista está vazia')\n",
    "            return     ## sai do métido\n",
    "        \n",
    "         atual = self.primeiro\n",
    "         while atual != None: ## vamos percorrer a lista toda, um nó de cada vez\n",
    "            atual.mostraNo() ## vem da classe Nó o nó que está é o objeto que apontado pela cabeça da lista \n",
    "            atual = atual.proximo ## atualizamos a variável atual para apontar para o endereço de memória do 1º"
   ]
  },
  {
   "cell_type": "markdown",
   "id": "a1226ff5",
   "metadata": {},
   "source": [
    "Cria a lista, insere no início e mostra os endereços"
   ]
  },
  {
   "cell_type": "code",
   "execution_count": 3,
   "id": "a21e1558",
   "metadata": {},
   "outputs": [],
   "source": [
    "lista = ListaExtremidadeDupla()"
   ]
  },
  {
   "cell_type": "code",
   "execution_count": 4,
   "id": "5db6f152",
   "metadata": {},
   "outputs": [],
   "source": [
    "lista.insere_inicio(1)"
   ]
  },
  {
   "cell_type": "code",
   "execution_count": 5,
   "id": "00846983",
   "metadata": {},
   "outputs": [
    {
     "data": {
      "text/plain": [
       "(<__main__.No at 0x7f67c861b0a0>, <__main__.No at 0x7f67c861b0a0>)"
      ]
     },
     "execution_count": 5,
     "metadata": {},
     "output_type": "execute_result"
    }
   ],
   "source": [
    "lista.primeiro, lista.ultimo"
   ]
  },
  {
   "cell_type": "code",
   "execution_count": 6,
   "id": "80e593ad",
   "metadata": {},
   "outputs": [],
   "source": [
    "lista.insere_inicio(2)\n",
    "lista.insere_inicio(3)\n",
    "lista.insere_inicio(4)\n",
    "lista.insere_inicio(5)"
   ]
  },
  {
   "cell_type": "code",
   "execution_count": 7,
   "id": "8808f21d",
   "metadata": {},
   "outputs": [
    {
     "name": "stdout",
     "output_type": "stream",
     "text": [
      "5\n",
      "4\n",
      "3\n",
      "2\n",
      "1\n"
     ]
    }
   ],
   "source": [
    "lista.mostrar()"
   ]
  },
  {
   "cell_type": "code",
   "execution_count": 8,
   "id": "81f0b8be",
   "metadata": {},
   "outputs": [
    {
     "data": {
      "text/plain": [
       "(<__main__.No at 0x7f67c86196a0>, <__main__.No at 0x7f67c861b0a0>)"
      ]
     },
     "execution_count": 8,
     "metadata": {},
     "output_type": "execute_result"
    }
   ],
   "source": [
    "lista.primeiro, lista.ultimo"
   ]
  },
  {
   "cell_type": "markdown",
   "id": "9e3ccf46",
   "metadata": {},
   "source": [
    "Insere no final"
   ]
  },
  {
   "cell_type": "code",
   "execution_count": 9,
   "id": "ff99a499",
   "metadata": {},
   "outputs": [],
   "source": [
    "lista = ListaExtremidadeDupla()"
   ]
  },
  {
   "cell_type": "code",
   "execution_count": 10,
   "id": "0df4c74e",
   "metadata": {},
   "outputs": [],
   "source": [
    "lista.insere_final(1)"
   ]
  },
  {
   "cell_type": "code",
   "execution_count": 11,
   "id": "73b166a7",
   "metadata": {},
   "outputs": [
    {
     "data": {
      "text/plain": [
       "(<__main__.No at 0x7f67c8619910>, <__main__.No at 0x7f67c8619910>)"
      ]
     },
     "execution_count": 11,
     "metadata": {},
     "output_type": "execute_result"
    }
   ],
   "source": [
    "lista.primeiro, lista.ultimo ## os dois apontadores terão que ter os mesmos endereços"
   ]
  },
  {
   "cell_type": "code",
   "execution_count": 12,
   "id": "d67e3c09",
   "metadata": {},
   "outputs": [],
   "source": [
    "lista.insere_final(2)\n",
    "lista.insere_final(3)\n"
   ]
  },
  {
   "cell_type": "code",
   "execution_count": 13,
   "id": "4c051555",
   "metadata": {},
   "outputs": [
    {
     "name": "stdout",
     "output_type": "stream",
     "text": [
      "1\n",
      "2\n",
      "3\n"
     ]
    }
   ],
   "source": [
    "lista.mostrar()"
   ]
  },
  {
   "cell_type": "code",
   "execution_count": 14,
   "id": "26573a96",
   "metadata": {},
   "outputs": [
    {
     "name": "stdout",
     "output_type": "stream",
     "text": [
      "0\n",
      "1\n",
      "2\n",
      "3\n",
      "4\n"
     ]
    }
   ],
   "source": [
    "lista.insere_inicio(0)\n",
    "lista.insere_final(4)\n",
    "lista.mostrar()"
   ]
  },
  {
   "cell_type": "code",
   "execution_count": null,
   "id": "45d49f48",
   "metadata": {},
   "outputs": [],
   "source": []
  }
 ],
 "metadata": {
  "kernelspec": {
   "display_name": "Python 3 (ipykernel)",
   "language": "python",
   "name": "python3"
  },
  "language_info": {
   "codemirror_mode": {
    "name": "ipython",
    "version": 3
   },
   "file_extension": ".py",
   "mimetype": "text/x-python",
   "name": "python",
   "nbconvert_exporter": "python",
   "pygments_lexer": "ipython3",
   "version": "3.9.9"
  }
 },
 "nbformat": 4,
 "nbformat_minor": 5
}
