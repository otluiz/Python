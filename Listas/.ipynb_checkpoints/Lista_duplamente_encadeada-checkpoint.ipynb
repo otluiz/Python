{
 "cells": [
  {
   "cell_type": "markdown",
   "metadata": {
    "id": "-FVr0W4SMhwg"
   },
   "source": [
    "# Lista duplamente encadeada"
   ]
  },
  {
   "cell_type": "code",
   "execution_count": 1,
   "metadata": {
    "id": "85G8hbnEMdYd"
   },
   "outputs": [],
   "source": [
    "class No: \n",
    "  \n",
    "  def __init__(self, valor):\n",
    "    self.valor = valor\n",
    "    self.proximo = None\n",
    "    self.anterior = None\n",
    "\n",
    "  def mostra_no(self):\n",
    "    print(self.valor)"
   ]
  },
  {
   "cell_type": "code",
   "execution_count": 2,
   "metadata": {
    "id": "2hlQCZiXOSGK"
   },
   "outputs": [],
   "source": [
    "class ListaDuplamenteEncadeada:\n",
    "\n",
    "  def __init__(self):\n",
    "    self.primeiro = None\n",
    "    self.ultimo = None\n",
    "\n",
    "  def __lista_vazia(self):\n",
    "    return self.primeiro == None\n",
    "  \n",
    "  def insere_inicio(self, valor):\n",
    "    novo = No(valor)\n",
    "    if self.__lista_vazia():\n",
    "      self.ultimo = novo\n",
    "    else:\n",
    "      self.primeiro.anterior = novo\n",
    "    novo.proximo = self.primeiro\n",
    "    self.primeiro = novo\n",
    "\n",
    "  def insere_final(self, valor):\n",
    "    novo = No(valor)\n",
    "    if self.__lista_vazia():\n",
    "      self.primeiro = novo\n",
    "    else:\n",
    "      self.ultimo.proximo = novo\n",
    "      novo.anterior = self.ultimo\n",
    "    self.ultimo = novo\n",
    "\n",
    "  def excluir_inicio(self):\n",
    "    temp = self.primeiro\n",
    "    if self.primeiro.proximo == None:\n",
    "      self.ultimo = None\n",
    "    else:\n",
    "      self.primeiro.proximo.anterior = None\n",
    "    self.primeiro = self.primeiro.proximo\n",
    "    return temp\n",
    "\n",
    "  def excluir_final(self):\n",
    "    temp = self.ultimo\n",
    "    if self.primeiro.proximo == None:\n",
    "      self.primeiro = None\n",
    "    else:\n",
    "      self.ultimo.anterior.proximo = None\n",
    "    self.ultimo = self.ultimo.anterior\n",
    "    return temp\n",
    "\n",
    "  def excluir_posicao(self, valor):\n",
    "    atual = self.primeiro\n",
    "    while atual.valor != valor:\n",
    "      atual = atual.proximo\n",
    "      if atual == None:\n",
    "        return None\n",
    "    if atual == self.primeiro:\n",
    "      self.primeiro = atual.proximo\n",
    "    else:\n",
    "      atual.anterior.proximo = atual.proximo\n",
    "\n",
    "    if atual == self.ultimo:\n",
    "      self.ultimo = atual.anterior\n",
    "    else:\n",
    "      atual.proximo.anterior = atual.anterior\n",
    "    return atual\n",
    "\n",
    "  def mostrar_frente(self):\n",
    "    atual = self.primeiro\n",
    "    while atual != None:\n",
    "      atual.mostra_no()\n",
    "      atual = atual.proximo\n",
    "\n",
    "  def mostrar_tras(self):\n",
    "    atual = self.ultimo\n",
    "    while atual != None:\n",
    "      atual.mostra_no()\n",
    "      atual = atual.anterior    "
   ]
  },
  {
   "cell_type": "markdown",
   "metadata": {
    "id": "ZKDi1S7AsoIc"
   },
   "source": [
    "### Insere no início"
   ]
  },
  {
   "cell_type": "code",
   "execution_count": 3,
   "metadata": {
    "id": "xq2bx73WwFxJ"
   },
   "outputs": [],
   "source": [
    "lista = ListaDuplamenteEncadeada()"
   ]
  },
  {
   "cell_type": "code",
   "execution_count": 4,
   "metadata": {
    "colab": {
     "base_uri": "https://localhost:8080/",
     "height": 125
    },
    "id": "nGEOtVvkwJgn",
    "outputId": "34465ba3-b85c-40ce-f3ab-c36210e67dcd"
   },
   "outputs": [
    {
     "name": "stdout",
     "output_type": "stream",
     "text": [
      "5\n",
      "4\n",
      "3\n",
      "2\n",
      "1\n"
     ]
    }
   ],
   "source": [
    "lista.insere_inicio(1)\n",
    "lista.insere_inicio(2)\n",
    "lista.insere_inicio(3)\n",
    "lista.insere_inicio(4)\n",
    "lista.insere_inicio(5)\n",
    "lista.mostrar_frente()"
   ]
  },
  {
   "cell_type": "code",
   "execution_count": 5,
   "metadata": {
    "colab": {
     "base_uri": "https://localhost:8080/",
     "height": 55
    },
    "id": "AGby5Y-dwSDp",
    "outputId": "d4dc7753-e181-4ba6-95b8-cfc3f231de7f"
   },
   "outputs": [
    {
     "data": {
      "text/plain": [
       "(<__main__.No at 0x7f0f5822c250>, <__main__.No at 0x7f0f5822c400>)"
      ]
     },
     "execution_count": 5,
     "metadata": {},
     "output_type": "execute_result"
    }
   ],
   "source": [
    "lista.primeiro, lista.ultimo"
   ]
  },
  {
   "cell_type": "code",
   "execution_count": 6,
   "metadata": {
    "colab": {
     "base_uri": "https://localhost:8080/",
     "height": 55
    },
    "id": "hl1osYfNwZ3I",
    "outputId": "78be3e97-3c91-45e1-f7a6-0e3be9e6aa9a"
   },
   "outputs": [
    {
     "data": {
      "text/plain": [
       "(5, 1)"
      ]
     },
     "execution_count": 6,
     "metadata": {},
     "output_type": "execute_result"
    }
   ],
   "source": [
    "lista.primeiro.valor, lista.ultimo.valor"
   ]
  },
  {
   "cell_type": "code",
   "execution_count": 7,
   "metadata": {
    "colab": {
     "base_uri": "https://localhost:8080/",
     "height": 125
    },
    "id": "8CwIchZQwh0l",
    "outputId": "4bd5e86b-ec80-4c9a-b385-fdda8bc982c4"
   },
   "outputs": [
    {
     "name": "stdout",
     "output_type": "stream",
     "text": [
      "1\n",
      "2\n",
      "3\n",
      "4\n",
      "5\n"
     ]
    }
   ],
   "source": [
    "lista.mostrar_tras()"
   ]
  },
  {
   "cell_type": "markdown",
   "metadata": {
    "id": "EvDo3G15vVNN"
   },
   "source": [
    "### Insere no final"
   ]
  },
  {
   "cell_type": "code",
   "execution_count": 8,
   "metadata": {
    "id": "EGzWITsiy9lb"
   },
   "outputs": [],
   "source": [
    "lista = ListaDuplamenteEncadeada()\n",
    "lista.insere_inicio(1)\n",
    "lista.insere_inicio(2)\n",
    "lista.insere_final(3)\n",
    "lista.insere_final(4)"
   ]
  },
  {
   "cell_type": "code",
   "execution_count": 9,
   "metadata": {
    "colab": {
     "base_uri": "https://localhost:8080/",
     "height": 108
    },
    "id": "PpQ1iSZqzSfJ",
    "outputId": "a21b13e0-05b8-49e3-8f60-9ac382062f7d"
   },
   "outputs": [
    {
     "name": "stdout",
     "output_type": "stream",
     "text": [
      "2\n",
      "1\n",
      "3\n",
      "4\n"
     ]
    }
   ],
   "source": [
    "lista.mostrar_frente()"
   ]
  },
  {
   "cell_type": "code",
   "execution_count": 10,
   "metadata": {
    "colab": {
     "base_uri": "https://localhost:8080/",
     "height": 108
    },
    "id": "vhAQ2StRzWiX",
    "outputId": "b25c4a28-e97b-47b3-bf4b-25a496b337df"
   },
   "outputs": [
    {
     "name": "stdout",
     "output_type": "stream",
     "text": [
      "4\n",
      "3\n",
      "1\n",
      "2\n"
     ]
    }
   ],
   "source": [
    "lista.mostrar_tras()"
   ]
  },
  {
   "cell_type": "markdown",
   "metadata": {
    "id": "CBoSZuH4xBCY"
   },
   "source": [
    "### Excluir do início e do final"
   ]
  },
  {
   "cell_type": "code",
   "execution_count": 11,
   "metadata": {
    "id": "R_oTOaSV1vqt"
   },
   "outputs": [],
   "source": [
    "lista = ListaDuplamenteEncadeada()\n",
    "lista.insere_inicio(1)\n",
    "lista.insere_inicio(2)\n",
    "lista.insere_inicio(3)\n",
    "lista.insere_inicio(4)\n",
    "lista.insere_inicio(5)"
   ]
  },
  {
   "cell_type": "code",
   "execution_count": 12,
   "metadata": {
    "colab": {
     "base_uri": "https://localhost:8080/",
     "height": 125
    },
    "id": "jhQG0k9U13FV",
    "outputId": "7e32fe65-b623-41bf-8289-49f61dae471a"
   },
   "outputs": [
    {
     "name": "stdout",
     "output_type": "stream",
     "text": [
      "5\n",
      "4\n",
      "3\n",
      "2\n",
      "1\n"
     ]
    }
   ],
   "source": [
    "lista.mostrar_frente()"
   ]
  },
  {
   "cell_type": "code",
   "execution_count": 13,
   "metadata": {
    "colab": {
     "base_uri": "https://localhost:8080/",
     "height": 108
    },
    "id": "IJlUqz9O16f_",
    "outputId": "16e0d32d-6a0c-44e2-b505-4ac56c72d39d"
   },
   "outputs": [
    {
     "name": "stdout",
     "output_type": "stream",
     "text": [
      "4\n",
      "3\n",
      "2\n",
      "1\n"
     ]
    }
   ],
   "source": [
    "lista.excluir_inicio()\n",
    "lista.mostrar_frente()"
   ]
  },
  {
   "cell_type": "code",
   "execution_count": 14,
   "metadata": {
    "colab": {
     "base_uri": "https://localhost:8080/",
     "height": 90
    },
    "id": "zcmC83gd2D9f",
    "outputId": "db2c5d9d-392a-4fac-c1f4-34790f96ccb2"
   },
   "outputs": [
    {
     "name": "stdout",
     "output_type": "stream",
     "text": [
      "4\n",
      "3\n",
      "2\n"
     ]
    }
   ],
   "source": [
    "lista.excluir_final()\n",
    "lista.mostrar_frente()"
   ]
  },
  {
   "cell_type": "code",
   "execution_count": null,
   "metadata": {
    "colab": {
     "base_uri": "https://localhost:8080/",
     "height": 90
    },
    "id": "cDSlSSgZ2J8K",
    "outputId": "92b0098c-3a36-4a55-c399-ae98ed16d8b7"
   },
   "outputs": [
    {
     "name": "stdout",
     "output_type": "stream",
     "text": [
      "2\n",
      "3\n",
      "4\n"
     ]
    }
   ],
   "source": [
    "lista.mostrar_tras()"
   ]
  },
  {
   "cell_type": "markdown",
   "metadata": {
    "id": "zwEGoPoTzTOR"
   },
   "source": [
    "### Excluir posição"
   ]
  },
  {
   "cell_type": "code",
   "execution_count": null,
   "metadata": {
    "id": "qyKwtWXz4lY1"
   },
   "outputs": [],
   "source": [
    "lista = ListaDuplamenteEncadeada()\n",
    "lista.insere_inicio(1)\n",
    "lista.insere_inicio(2)\n",
    "lista.insere_inicio(3)\n",
    "lista.insere_inicio(4)\n",
    "lista.insere_inicio(5)"
   ]
  },
  {
   "cell_type": "code",
   "execution_count": null,
   "metadata": {
    "colab": {
     "base_uri": "https://localhost:8080/",
     "height": 125
    },
    "id": "r86rWGkV4nee",
    "outputId": "fc16b2af-59d4-4079-dcc0-2072c60ec451"
   },
   "outputs": [
    {
     "name": "stdout",
     "output_type": "stream",
     "text": [
      "5\n",
      "4\n",
      "3\n",
      "2\n",
      "1\n"
     ]
    }
   ],
   "source": [
    "lista.mostrar_frente()"
   ]
  },
  {
   "cell_type": "code",
   "execution_count": null,
   "metadata": {
    "colab": {
     "base_uri": "https://localhost:8080/",
     "height": 55
    },
    "id": "EiU5q3lY4qY5",
    "outputId": "29236e8d-25d0-4b61-84ff-0c07c7864e49"
   },
   "outputs": [
    {
     "data": {
      "text/plain": [
       "<__main__.No at 0x7f00e333f240>"
      ]
     },
     "execution_count": 24,
     "metadata": {
      "tags": []
     },
     "output_type": "execute_result"
    }
   ],
   "source": [
    "lista.excluir_posicao(3)"
   ]
  },
  {
   "cell_type": "code",
   "execution_count": null,
   "metadata": {
    "colab": {
     "base_uri": "https://localhost:8080/",
     "height": 196
    },
    "id": "0FvwKdB84zJo",
    "outputId": "21c1b5f0-202c-4c82-92f1-2ec75775db59"
   },
   "outputs": [
    {
     "name": "stdout",
     "output_type": "stream",
     "text": [
      "5\n",
      "4\n",
      "2\n",
      "1\n",
      "\n",
      "1\n",
      "2\n",
      "4\n",
      "5\n"
     ]
    }
   ],
   "source": [
    "lista.mostrar_frente()\n",
    "print()\n",
    "lista.mostrar_tras()"
   ]
  },
  {
   "cell_type": "code",
   "execution_count": null,
   "metadata": {
    "colab": {
     "base_uri": "https://localhost:8080/",
     "height": 55
    },
    "id": "hegHDPQw4_CA",
    "outputId": "a3c9739e-1b54-4a67-cb6c-976bbc5ff57a"
   },
   "outputs": [
    {
     "data": {
      "text/plain": [
       "<__main__.No at 0x7f00e333f1d0>"
      ]
     },
     "execution_count": 26,
     "metadata": {
      "tags": []
     },
     "output_type": "execute_result"
    }
   ],
   "source": [
    "lista.excluir_posicao(5)\n",
    "lista.excluir_posicao(1)"
   ]
  },
  {
   "cell_type": "code",
   "execution_count": null,
   "metadata": {
    "colab": {
     "base_uri": "https://localhost:8080/",
     "height": 125
    },
    "id": "wt_tHeFy5FLR",
    "outputId": "37085697-9978-4fcd-8c4d-ee3afe468db7"
   },
   "outputs": [
    {
     "name": "stdout",
     "output_type": "stream",
     "text": [
      "4\n",
      "2\n",
      "\n",
      "2\n",
      "4\n"
     ]
    }
   ],
   "source": [
    "lista.mostrar_frente()\n",
    "print()\n",
    "lista.mostrar_tras()"
   ]
  }
 ],
 "metadata": {
  "colab": {
   "collapsed_sections": [],
   "name": "Lista duplamente encadeada.ipynb",
   "provenance": []
  },
  "kernelspec": {
   "display_name": "Python 3 (ipykernel)",
   "language": "python",
   "name": "python3"
  },
  "language_info": {
   "codemirror_mode": {
    "name": "ipython",
    "version": 3
   },
   "file_extension": ".py",
   "mimetype": "text/x-python",
   "name": "python",
   "nbconvert_exporter": "python",
   "pygments_lexer": "ipython3",
   "version": "3.9.9"
  }
 },
 "nbformat": 4,
 "nbformat_minor": 1
}
