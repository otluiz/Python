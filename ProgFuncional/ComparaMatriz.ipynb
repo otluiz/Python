{
 "cells": [
  {
   "cell_type": "code",
   "execution_count": null,
   "metadata": {},
   "outputs": [],
   "source": [
    "matrixOne = [[1, 12, 45], [58, 524, 78], [1, 2, 3], [45, 456, 8]]"
   ]
  },
  {
   "cell_type": "code",
   "execution_count": null,
   "metadata": {},
   "outputs": [],
   "source": [
    "matrixTwo = [[0, 12, 2], [85, 1, 74], [27, 63, 21], [25, 47, 962]]"
   ]
  },
  {
   "cell_type": "code",
   "execution_count": null,
   "metadata": {},
   "outputs": [],
   "source": [
    "#Inicializa a lista com todas as posições definidas\n",
    "matrixThree = [[0,0,0] for _ in range(4)]\n",
    "sum = 0"
   ]
  },
  {
   "cell_type": "code",
   "execution_count": null,
   "metadata": {},
   "outputs": [],
   "source": [
    "for l in range(0, 4):\n",
    "    for c in range(0, 3):\n",
    "        if (matrixOne[l][c] < matrixTwo[l][c]): ## um elemento matriz 1 for menor conta\n",
    "            sum = sum + 1\n",
    "        else:\n",
    "            matrixThree[l][c] = matrixTwo[l][c] # senão atribui a matriz maior"
   ]
  },
  {
   "cell_type": "code",
   "execution_count": null,
   "metadata": {},
   "outputs": [],
   "source": [
    "print(matrixThree, \" -> \", sum)"
   ]
  },
  {
   "cell_type": "code",
   "execution_count": 4,
   "metadata": {},
   "outputs": [
    {
     "name": "stdout",
     "output_type": "stream",
     "text": [
      "Requirement already satisfied: numpy in /home/otluiz/anaconda3/lib/python3.7/site-packages (1.16.2)\r\n"
     ]
    }
   ],
   "source": [
    "#!pip install numpy"
   ]
  },
  {
   "cell_type": "code",
   "execution_count": 5,
   "metadata": {},
   "outputs": [],
   "source": [
    "import numpy as np"
   ]
  },
  {
   "cell_type": "code",
   "execution_count": 11,
   "metadata": {},
   "outputs": [],
   "source": [
    "A = np.array([ 1,  1,  1,  1,  1,  1, -1, -1, -1, -1,  1, -1, -1, -1, -1,  1,  1,\n",
    "        1,  1, -1, -1, -1, -1, -1,  1, -1, -1, -1, -1,  1,  1,  1,  1,  1,\n",
    "       -1])\n",
    "B = np.array([-1.,  1.,  1.,  1., -1.,  1., -1., -1., -1.,  1.,  1., -1., -1.,\n",
    "       -1.,  1., -1.,  1.,  1.,  1., -1., -1., -1., -1., -1.,  1.,  1.,\n",
    "       -1., -1., -1.,  1., -1.,  1.,  1.,  1., -1.])"
   ]
  },
  {
   "cell_type": "code",
   "execution_count": 12,
   "metadata": {},
   "outputs": [],
   "source": [
    "sum = A + B\n",
    "dif = A - B"
   ]
  },
  {
   "cell_type": "code",
   "execution_count": 13,
   "metadata": {},
   "outputs": [
    {
     "name": "stdout",
     "output_type": "stream",
     "text": [
      "Sum \n",
      " [ 0.  2.  2.  2.  0.  2. -2. -2. -2.  0.  2. -2. -2. -2.  0.  0.  2.  2.\n",
      "  2. -2. -2. -2. -2. -2.  2.  0. -2. -2. -2.  2.  0.  2.  2.  2. -2.] \n",
      " \n",
      "Diff \n",
      " [ 2.  0.  0.  0.  2.  0.  0.  0.  0. -2.  0.  0.  0.  0. -2.  2.  0.  0.\n",
      "  0.  0.  0.  0.  0.  0.  0. -2.  0.  0.  0.  0.  2.  0.  0.  0.  0.]\n"
     ]
    }
   ],
   "source": [
    "print(\"Sum \\n\", sum, \"\\n \\n\" \"Diff \\n\", dif)"
   ]
  },
  {
   "cell_type": "code",
   "execution_count": 21,
   "metadata": {},
   "outputs": [],
   "source": [
    "cont = 0\n",
    "for i in range (0, len(dif)):\n",
    "    if (dif[i] != 0):\n",
    "        cont += 1\n",
    "\n",
    "percentual = cont / len(dif)"
   ]
  },
  {
   "cell_type": "code",
   "execution_count": 22,
   "metadata": {},
   "outputs": [
    {
     "name": "stdout",
     "output_type": "stream",
     "text": [
      "0.2\n"
     ]
    }
   ],
   "source": [
    "print (percentual)"
   ]
  },
  {
   "cell_type": "code",
   "execution_count": 28,
   "metadata": {},
   "outputs": [],
   "source": [
    "def percent(x, n = 0):\n",
    "    for i in range(0, len(x)):\n",
    "      if (x[i] != 0): \n",
    "        n += 1\n",
    "    return n/len(x)"
   ]
  },
  {
   "cell_type": "code",
   "execution_count": 31,
   "metadata": {},
   "outputs": [
    {
     "data": {
      "text/plain": [
       "0.6"
      ]
     },
     "execution_count": 31,
     "metadata": {},
     "output_type": "execute_result"
    }
   ],
   "source": [
    "percent([1,2,0,4,0,])"
   ]
  },
  {
   "cell_type": "code",
   "execution_count": 34,
   "metadata": {},
   "outputs": [
    {
     "ename": "TypeError",
     "evalue": "'numpy.ndarray' object is not callable",
     "output_type": "error",
     "traceback": [
      "\u001b[0;31m---------------------------------------------------------------------------\u001b[0m",
      "\u001b[0;31mTypeError\u001b[0m                                 Traceback (most recent call last)",
      "\u001b[0;32m<ipython-input-34-9c6c28dc1709>\u001b[0m in \u001b[0;36m<module>\u001b[0;34m\u001b[0m\n\u001b[0;32m----> 1\u001b[0;31m \u001b[0mmap\u001b[0m\u001b[0;34m(\u001b[0m\u001b[0mpercent\u001b[0m\u001b[0;34m,\u001b[0m \u001b[0mdif\u001b[0m\u001b[0;34m(\u001b[0m\u001b[0mA\u001b[0m \u001b[0;34m-\u001b[0m \u001b[0mB\u001b[0m\u001b[0;34m)\u001b[0m\u001b[0;34m)\u001b[0m\u001b[0;34m\u001b[0m\u001b[0;34m\u001b[0m\u001b[0m\n\u001b[0m",
      "\u001b[0;31mTypeError\u001b[0m: 'numpy.ndarray' object is not callable"
     ]
    }
   ],
   "source": [
    "map(percent, dif(A - B))"
   ]
  },
  {
   "cell_type": "code",
   "execution_count": null,
   "metadata": {},
   "outputs": [],
   "source": []
  }
 ],
 "metadata": {
  "kernelspec": {
   "display_name": "Python 3",
   "language": "python",
   "name": "python3"
  },
  "language_info": {
   "codemirror_mode": {
    "name": "ipython",
    "version": 3
   },
   "file_extension": ".py",
   "mimetype": "text/x-python",
   "name": "python",
   "nbconvert_exporter": "python",
   "pygments_lexer": "ipython3",
   "version": "3.7.3"
  }
 },
 "nbformat": 4,
 "nbformat_minor": 2
}
