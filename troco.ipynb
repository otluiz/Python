{
 "cells": [
  {
   "cell_type": "code",
   "execution_count": 3,
   "metadata": {},
   "outputs": [
    {
     "name": "stdout",
     "output_type": "stream",
     "text": [
      "Digite a quantia de dinheiro entregue: 28\n",
      "0\n"
     ]
    }
   ],
   "source": [
    "dinheiro = int(input(\"Digite a quantia de dinheiro entregue: \"))\n",
    "moedas= [20, 10, 5, 2, 1]\n",
    "troco = 0\n",
    "while True:\n",
    "\t       if (dinheiro <= moedas[0]):\n",
    "\t       \tmoedas[0] += 1\n",
    "\t       \ttroco += moedas[1]\n",
    "\t       break\n",
    "print(troco)"
   ]
  },
  {
   "cell_type": "code",
   "execution_count": null,
   "metadata": {},
   "outputs": [],
   "source": []
  }
 ],
 "metadata": {
  "kernelspec": {
   "display_name": "Python 3 (ipykernel)",
   "language": "python",
   "name": "python3"
  },
  "language_info": {
   "codemirror_mode": {
    "name": "ipython",
    "version": 3
   },
   "file_extension": ".py",
   "mimetype": "text/x-python",
   "name": "python",
   "nbconvert_exporter": "python",
   "pygments_lexer": "ipython3",
   "version": "3.9.9"
  }
 },
 "nbformat": 4,
 "nbformat_minor": 2
}
