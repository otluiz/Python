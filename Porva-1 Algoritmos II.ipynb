{
 "cells": [
  {
   "cell_type": "markdown",
   "metadata": {},
   "source": [
    "    Gabriel Farias"
   ]
  },
  {
   "cell_type": "code",
   "execution_count": 1,
   "metadata": {},
   "outputs": [
    {
     "name": "stdout",
     "output_type": "stream",
     "text": [
      "2.5\n",
      "4.0\n",
      "5.0\n",
      "None\n"
     ]
    }
   ],
   "source": [
    "def darTroco(x):\n",
    "    valor=0\n",
    "    moedas=[20,10,5,2,1]\n",
    "    if x<=0:\n",
    "        return 0\n",
    "    else:\n",
    "        for item in moedas:\n",
    "            while x>=item:\n",
    "                valor=valor+(x/item)\n",
    "                x=x-item\n",
    "                print(valor)\n",
    "        \n",
    "print(darTroco(50))"
   ]
  },
  {
   "cell_type": "code",
   "execution_count": 2,
   "metadata": {},
   "outputs": [
    {
     "name": "stdout",
     "output_type": "stream",
     "text": [
      "1.5\n",
      "2.5\n"
     ]
    }
   ],
   "source": [
    "darTroco(30)"
   ]
  },
  {
   "cell_type": "markdown",
   "metadata": {},
   "source": [
    "    Karen Maciele"
   ]
  },
  {
   "cell_type": "code",
   "execution_count": 3,
   "metadata": {},
   "outputs": [
    {
     "name": "stdout",
     "output_type": "stream",
     "text": [
      "Digite quanto você vai nos entregar aqui, por favor: 28\n",
      "São 1 notas de R$ 20 reais.\n",
      "São 1 notas de R$ 5 reais.\n",
      "São 1 notas de R$ 2 reais.\n",
      "São 1 notas de R$ 1 reais.\n"
     ]
    }
   ],
   "source": [
    "quantia = int(input(\"Digite quanto você vai nos entregar aqui, por favor: \"))\n",
    "\n",
    "def darTroco(quantia):\n",
    "     moedas = [20, 10, 5, 2, 1]\n",
    "     for dinheiro in (moedas):\n",
    "          quantidade = quantia // dinheiro\n",
    "          quantia = quantia % dinheiro\n",
    "          if quantidade > 0:\n",
    "              print(f\"São {quantidade} notas de R$ {dinheiro} reais.\")\n",
    "\n",
    "darTroco(quantia)"
   ]
  },
  {
   "cell_type": "markdown",
   "metadata": {},
   "source": [
    "    Alicia Kalyane"
   ]
  },
  {
   "cell_type": "code",
   "execution_count": 4,
   "metadata": {},
   "outputs": [
    {
     "name": "stdout",
     "output_type": "stream",
     "text": [
      "Insira a quantia de dinheiro recebido: 28\n",
      "1 de R$ 20\n",
      "1 de R$ 5\n",
      "1 de R$ 2\n",
      "1 de R$ 1\n"
     ]
    }
   ],
   "source": [
    "dinheiro = int(input(\"Insira a quantia de dinheiro recebido: \"))\n",
    "def troco(dinheiro):\n",
    "    Moedas = [20,10,5,2,1]\n",
    "    for notas in Moedas:\n",
    "        Moedass = dinheiro//notas\n",
    "        dinheiro %= notas\n",
    "        if (Moedass != 0): \n",
    "            print(f\"{Moedass} de R$ {notas}\")\n",
    "troco(dinheiro)"
   ]
  },
  {
   "cell_type": "code",
   "execution_count": null,
   "metadata": {},
   "outputs": [],
   "source": []
  },
  {
   "cell_type": "markdown",
   "metadata": {},
   "source": [
    "    Emily Galdino"
   ]
  },
  {
   "cell_type": "code",
   "execution_count": 9,
   "metadata": {},
   "outputs": [
    {
     "name": "stdout",
     "output_type": "stream",
     "text": [
      "Digite a quantia de dinheiro entregue: 56\n"
     ]
    }
   ],
   "source": [
    "dinheiro = int(input(\"Digite a quantia de dinheiro entregue: \"))\n",
    "def darTroco(dinheiro):\n",
    "    for i in [20,10,5,2,1]:\n",
    "        moedas = dinheiro // i\n",
    "        dinheiro = dinheiro % i\n",
    "        if(moedas > 0):\n",
    "            print(\"{} notas de R${}\".format(moedas,i))"
   ]
  },
  {
   "cell_type": "code",
   "execution_count": null,
   "metadata": {},
   "outputs": [],
   "source": [
    "darTroco(dinheiro)"
   ]
  },
  {
   "cell_type": "markdown",
   "metadata": {},
   "source": [
    "    Esequiel Francisco"
   ]
  },
  {
   "cell_type": "code",
   "execution_count": 10,
   "metadata": {},
   "outputs": [],
   "source": [
    "import time\n",
    "def troco():\n",
    "    dinheroapagar = float(input(\"Dinheiro a Pagar:R$ \"))\n",
    "    dinheirorecebido = float(input(\"Dinheiro Recebido:R$ \"))\n",
    "    if dinheroapagar == dinheirorecebido:\n",
    "        print(\"O dinheiro a pagar é igual ao dinheiro recebido.\")\n",
    "    elif dinheirorecebido < dinheroapagar:\n",
    "        print(\"ERRO!!!\\n O valor recebido é inferior ao valor a pagar\")\n",
    "    else:\n",
    "        troco = dinheirorecebido - dinheroapagar\n",
    "        trocoarrendando = round(troco, 2)\n",
    "        time.sleep(5)\n",
    "        print(\"\\n\\n\\tO Valor do troco é de {} euros\".format(trocoarrendando))"
   ]
  },
  {
   "cell_type": "code",
   "execution_count": 12,
   "metadata": {},
   "outputs": [
    {
     "name": "stdout",
     "output_type": "stream",
     "text": [
      "Dinheiro a Pagar:R$ 56\n",
      "Dinheiro Recebido:R$ 60\n",
      "\n",
      "\n",
      "\tO Valor do troco é de 4.0 euros\n"
     ]
    }
   ],
   "source": [
    "troco()"
   ]
  },
  {
   "cell_type": "markdown",
   "metadata": {},
   "source": [
    "    Emiky Queiroz"
   ]
  },
  {
   "cell_type": "code",
   "execution_count": 13,
   "metadata": {},
   "outputs": [
    {
     "name": "stdout",
     "output_type": "stream",
     "text": [
      "Digite a quantia de dinheiro entregue: 56\n",
      "2 notas de R$20\n",
      "1 notas de R$10\n",
      "1 notas de R$5\n",
      "1 notas de R$1\n"
     ]
    }
   ],
   "source": [
    "dinheiro = int(input(\"Digite a quantia de dinheiro entregue: \"))\n",
    "def darTroco(dinheiro):\n",
    "    for nota in [20,10,5,2,1]:\n",
    "        moedas = dinheiro // nota\n",
    "        dinheiro %= nota\n",
    "        if(moedas > 0):\n",
    "            print(f\"{moedas} notas de R${nota}\")\n",
    "darTroco(dinheiro)"
   ]
  },
  {
   "cell_type": "code",
   "execution_count": null,
   "metadata": {},
   "outputs": [],
   "source": []
  },
  {
   "cell_type": "markdown",
   "metadata": {},
   "source": [
    "    Ayran Godê"
   ]
  },
  {
   "cell_type": "code",
   "execution_count": 14,
   "metadata": {},
   "outputs": [
    {
     "name": "stdout",
     "output_type": "stream",
     "text": [
      "Digite a quantia de dinheiro entregue: 56\n",
      "2 de R$ 20\n",
      "1 de R$ 10\n",
      "1 de R$ 5\n",
      "1 de R$ 1\n"
     ]
    }
   ],
   "source": [
    "d = int(input(\"Digite a quantia de dinheiro entregue: \"))\n",
    "def dt(d):\n",
    "    m = [20,10,5,2,1]\n",
    "    for n in m:\n",
    "        qtdm = d//n\n",
    "        d %= n\n",
    "        if (qtdm != 0):\n",
    "            print(f\"{qtdm} de R$ {n}\")\n",
    "dt(d)"
   ]
  },
  {
   "cell_type": "code",
   "execution_count": null,
   "metadata": {},
   "outputs": [],
   "source": []
  },
  {
   "cell_type": "markdown",
   "metadata": {},
   "source": [
    "    Antônio Salatiel"
   ]
  },
  {
   "cell_type": "code",
   "execution_count": 17,
   "metadata": {},
   "outputs": [
    {
     "name": "stdout",
     "output_type": "stream",
     "text": [
      "digite a quantia de dinheiro entregue56\n"
     ]
    }
   ],
   "source": [
    "dinheiro=int(input(\"digite a quantia de dinheiro entregue\"))"
   ]
  },
  {
   "cell_type": "code",
   "execution_count": null,
   "metadata": {},
   "outputs": [],
   "source": []
  },
  {
   "cell_type": "code",
   "execution_count": 20,
   "metadata": {},
   "outputs": [],
   "source": [
    "def dartroco(dinheiro):\n",
    "       moedas = [20,10,5,2,1] \n",
    "       for notas in moedas:\n",
    "          qttmoeda =  dinheiro // notas \n",
    "          dinheiro %= notas \n",
    "          if(qttmoeda > 0): \n",
    "            print(f\" {qttmoeda} notas de R${notas}\")"
   ]
  },
  {
   "cell_type": "code",
   "execution_count": 18,
   "metadata": {},
   "outputs": [
    {
     "ename": "NameError",
     "evalue": "name 'moedas' is not defined",
     "output_type": "error",
     "traceback": [
      "\u001b[0;31m---------------------------------------------------------------------------\u001b[0m",
      "\u001b[0;31mNameError\u001b[0m                                 Traceback (most recent call last)",
      "\u001b[0;32m<ipython-input-18-fd515d04868a>\u001b[0m in \u001b[0;36m<module>\u001b[0;34m\u001b[0m\n\u001b[0;32m----> 1\u001b[0;31m \u001b[0;32mfor\u001b[0m \u001b[0mnotas\u001b[0m \u001b[0;32min\u001b[0m \u001b[0mmoedas\u001b[0m\u001b[0;34m:\u001b[0m\u001b[0;34m\u001b[0m\u001b[0;34m\u001b[0m\u001b[0m\n\u001b[0m\u001b[1;32m      2\u001b[0m       \u001b[0mqttmoeda\u001b[0m \u001b[0;34m=\u001b[0m  \u001b[0mdinheiro\u001b[0m \u001b[0;34m//\u001b[0m \u001b[0mnotas\u001b[0m\u001b[0;34m\u001b[0m\u001b[0;34m\u001b[0m\u001b[0m\n\u001b[1;32m      3\u001b[0m       \u001b[0mdinheiro\u001b[0m \u001b[0;34m%=\u001b[0m \u001b[0mnotas\u001b[0m\u001b[0;34m\u001b[0m\u001b[0;34m\u001b[0m\u001b[0m\n\u001b[1;32m      4\u001b[0m       \u001b[0;32mif\u001b[0m\u001b[0;34m(\u001b[0m\u001b[0mqttmoeda\u001b[0m \u001b[0;34m>\u001b[0m \u001b[0;36m0\u001b[0m\u001b[0;34m)\u001b[0m\u001b[0;34m:\u001b[0m\u001b[0;34m\u001b[0m\u001b[0;34m\u001b[0m\u001b[0m\n\u001b[1;32m      5\u001b[0m         \u001b[0mprint\u001b[0m\u001b[0;34m(\u001b[0m\u001b[0;34mf\" {qttmoeda} notas de R${notas}\"\u001b[0m\u001b[0;34m)\u001b[0m\u001b[0;34m\u001b[0m\u001b[0;34m\u001b[0m\u001b[0m\n",
      "\u001b[0;31mNameError\u001b[0m: name 'moedas' is not defined"
     ]
    }
   ],
   "source": []
  },
  {
   "cell_type": "code",
   "execution_count": null,
   "metadata": {},
   "outputs": [],
   "source": []
  }
 ],
 "metadata": {
  "kernelspec": {
   "display_name": "Python 3 (ipykernel)",
   "language": "python",
   "name": "python3"
  },
  "language_info": {
   "codemirror_mode": {
    "name": "ipython",
    "version": 3
   },
   "file_extension": ".py",
   "mimetype": "text/x-python",
   "name": "python",
   "nbconvert_exporter": "python",
   "pygments_lexer": "ipython3",
   "version": "3.9.9"
  }
 },
 "nbformat": 4,
 "nbformat_minor": 2
}
