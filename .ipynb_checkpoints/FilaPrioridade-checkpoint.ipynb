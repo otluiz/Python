{
 "cells": [
  {
   "cell_type": "code",
   "execution_count": 10,
   "metadata": {},
   "outputs": [],
   "source": [
    "import numpy as np"
   ]
  },
  {
   "cell_type": "code",
   "execution_count": 21,
   "metadata": {},
   "outputs": [],
   "source": [
    "class FilaPrioridade:\n",
    "    \n",
    "    def __init__(self, capacidade):\n",
    "        self.capacidade = capacidade\n",
    "        self.num_elementos = 0\n",
    "        self.valores = np.empty(self.capacidade, dtype=int)\n",
    "        \n",
    "    def __fila_vazia(self):\n",
    "        return self.num_elementos == 0\n",
    "    \n",
    "    def __fila_cheia(self):\n",
    "        return self.num_elementos == self.capacidade\n",
    "    \n",
    "    def enfileirar(self, valor):\n",
    "        if self.__fila_cheia():\n",
    "            print('A fila está cheia')\n",
    "            return\n",
    "        \n",
    "        if self.num_elementos == 0: # self.num_elementos == 0 fila vazia\n",
    "            self.valores[self.num_elementos] = valor\n",
    "            self.num_elementos += 1\n",
    "        else:\n",
    "            temp = self.num_elementos - 1\n",
    "            while temp >= 0:\n",
    "                if valor > self.valores[temp]: # valores menores têm maior prioridade\n",
    "                    self.valores[temp + 1] = self.valores[temp]\n",
    "                else:\n",
    "                    break\n",
    "                temp -= 1\n",
    "            \n",
    "            self.valores[temp + 1] = valor\n",
    "            self.num_elementos += 1\n",
    "        \n",
    "    def desenfileirar(self):\n",
    "        if self.__fila_vazia():\n",
    "            print('A fila está vazia')\n",
    "            return\n",
    "        \n",
    "        valor = self.valores[self.num_elementos - 1]\n",
    "        self.num_elementos -= 1\n",
    "        return valor\n",
    "    \n",
    "    def primeiro_fila(self):\n",
    "        if self.__fila_vazia():\n",
    "            return -1\n",
    "        return self.valores[self.num_elementos - 1]\n"
   ]
  },
  {
   "cell_type": "code",
   "execution_count": 22,
   "metadata": {},
   "outputs": [],
   "source": [
    "f = FilaPrioridade(5)"
   ]
  },
  {
   "cell_type": "code",
   "execution_count": 23,
   "metadata": {},
   "outputs": [],
   "source": [
    "f.enfileirar(10)"
   ]
  },
  {
   "cell_type": "code",
   "execution_count": 24,
   "metadata": {},
   "outputs": [],
   "source": [
    "f.enfileirar(20)\n",
    "f.enfileirar(30)"
   ]
  },
  {
   "cell_type": "code",
   "execution_count": 27,
   "metadata": {},
   "outputs": [
    {
     "data": {
      "text/plain": [
       "5"
      ]
     },
     "execution_count": 27,
     "metadata": {},
     "output_type": "execute_result"
    }
   ],
   "source": [
    "f.primeiro_fila()"
   ]
  },
  {
   "cell_type": "code",
   "execution_count": 26,
   "metadata": {},
   "outputs": [],
   "source": [
    "f.enfileirar(5)"
   ]
  },
  {
   "cell_type": "code",
   "execution_count": null,
   "metadata": {},
   "outputs": [],
   "source": []
  }
 ],
 "metadata": {
  "kernelspec": {
   "display_name": "Python 3",
   "language": "python",
   "name": "python3"
  },
  "language_info": {
   "codemirror_mode": {
    "name": "ipython",
    "version": 3
   },
   "file_extension": ".py",
   "mimetype": "text/x-python",
   "name": "python",
   "nbconvert_exporter": "python",
   "pygments_lexer": "ipython3",
   "version": "3.7.3"
  }
 },
 "nbformat": 4,
 "nbformat_minor": 2
}
