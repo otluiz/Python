{
 "cells": [
  {
   "cell_type": "markdown",
   "metadata": {},
   "source": [
    "    Gabriel Farias"
   ]
  },
  {
   "cell_type": "code",
   "execution_count": 1,
   "metadata": {},
   "outputs": [
    {
     "name": "stdout",
     "output_type": "stream",
     "text": [
      "2.5\n",
      "4.0\n",
      "5.0\n",
      "None\n"
     ]
    }
   ],
   "source": [
    "def darTroco(x):\n",
    "    valor=0\n",
    "    moedas=[20,10,5,2,1]\n",
    "    if x<=0:\n",
    "        return 0\n",
    "    else:\n",
    "        for item in moedas:\n",
    "            while x>=item:\n",
    "                valor=valor+(x/item)\n",
    "                x=x-item\n",
    "                print(valor)\n",
    "        \n",
    "print(darTroco(50))"
   ]
  },
  {
   "cell_type": "code",
   "execution_count": 3,
   "metadata": {},
   "outputs": [
    {
     "name": "stdout",
     "output_type": "stream",
     "text": [
      "1.5\n",
      "2.5\n"
     ]
    }
   ],
   "source": [
    "darTroco(30)"
   ]
  },
  {
   "cell_type": "markdown",
   "metadata": {},
   "source": [
    "    Karen Maciele"
   ]
  },
  {
   "cell_type": "code",
   "execution_count": 4,
   "metadata": {},
   "outputs": [
    {
     "name": "stdout",
     "output_type": "stream",
     "text": [
      "Digite quanto você vai nos entregar aqui, por favor: 56\n",
      "São 2 notas de R$ 20 reais.\n",
      "São 1 notas de R$ 10 reais.\n",
      "São 1 notas de R$ 5 reais.\n",
      "São 1 notas de R$ 1 reais.\n"
     ]
    }
   ],
   "source": [
    "quantia = int(input(\"Digite quanto você vai nos entregar aqui, por favor: \"))\n",
    "\n",
    "def darTroco(quantia):\n",
    "     moedas = [20, 10, 5, 2, 1]\n",
    "     for dinheiro in (moedas):\n",
    "          quantidade = quantia // dinheiro\n",
    "          quantia = quantia % dinheiro\n",
    "          if quantidade > 0:\n",
    "              print(f\"São {quantidade} notas de R$ {dinheiro} reais.\")\n",
    "\n",
    "darTroco(quantia)"
   ]
  },
  {
   "cell_type": "markdown",
   "metadata": {},
   "source": [
    "    Alicia Kalyane"
   ]
  },
  {
   "cell_type": "code",
   "execution_count": 6,
   "metadata": {},
   "outputs": [
    {
     "name": "stdout",
     "output_type": "stream",
     "text": [
      "Insira a quantia de dinheiro recebido: 56\n",
      "2 de R$ 20\n",
      "1 de R$ 10\n",
      "1 de R$ 5\n",
      "1 de R$ 1\n"
     ]
    }
   ],
   "source": [
    "dinheiro = int(input(\"Insira a quantia de dinheiro recebido: \"))\n",
    "def troco(dinheiro):\n",
    "    Moedas = [20,10,5,2,1]\n",
    "    for notas in Moedas:\n",
    "        Moedass = dinheiro//notas\n",
    "        dinheiro %= notas\n",
    "        if (Moedass != 0): \n",
    "            print(f\"{Moedass} de R$ {notas}\")\n",
    "troco(dinheiro)"
   ]
  },
  {
   "cell_type": "code",
   "execution_count": null,
   "metadata": {},
   "outputs": [],
   "source": []
  },
  {
   "cell_type": "markdown",
   "metadata": {},
   "source": [
    "    Emily Galdino"
   ]
  },
  {
   "cell_type": "code",
   "execution_count": 8,
   "metadata": {},
   "outputs": [
    {
     "ename": "SyntaxError",
     "evalue": "unexpected EOF while parsing (<ipython-input-8-86a9a265e707>, line 7)",
     "output_type": "error",
     "traceback": [
      "\u001b[0;36m  File \u001b[0;32m\"<ipython-input-8-86a9a265e707>\"\u001b[0;36m, line \u001b[0;32m7\u001b[0m\n\u001b[0;31m    print(\"{} notas de R${}\".format(moedas,i)\u001b[0m\n\u001b[0m                                             ^\u001b[0m\n\u001b[0;31mSyntaxError\u001b[0m\u001b[0;31m:\u001b[0m unexpected EOF while parsing\n"
     ]
    }
   ],
   "source": [
    "dinheiro = int(input(\"Digite a quantia de dinheiro entregue: \"))\n",
    "def darTroco(dinheiro):\n",
    "    for i in [20,10,5,2,1]:\n",
    "        moedas = dinheiro // i\n",
    "        dinheiro = dinheiro % i\n",
    "        if(moedas > 0):\n",
    "            print(\"{} notas de R${}\".format(moedas,i)"
   ]
  },
  {
   "cell_type": "code",
   "execution_count": null,
   "metadata": {},
   "outputs": [],
   "source": [
    "darTroco(dinheiro)"
   ]
  },
  {
   "cell_type": "code",
   "execution_count": null,
   "metadata": {},
   "outputs": [],
   "source": []
  }
 ],
 "metadata": {
  "kernelspec": {
   "display_name": "Python 3",
   "language": "python",
   "name": "python3"
  },
  "language_info": {
   "codemirror_mode": {
    "name": "ipython",
    "version": 3
   },
   "file_extension": ".py",
   "mimetype": "text/x-python",
   "name": "python",
   "nbconvert_exporter": "python",
   "pygments_lexer": "ipython3",
   "version": "3.7.3"
  }
 },
 "nbformat": 4,
 "nbformat_minor": 2
}
